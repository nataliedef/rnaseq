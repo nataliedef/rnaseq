{
 "cells": [
  {
   "cell_type": "markdown",
   "metadata": {},
   "source": [
    "# Prepare kallisto outputs for differential expression analysis\n",
    "See script `/cellar/users/ndefores/pipelines/20210104_rnaseq_to_gene_counts.sh` for how to run kallisto"
   ]
  },
  {
   "cell_type": "code",
   "execution_count": null,
   "metadata": {},
   "outputs": [],
   "source": [
    "# import packages - not all will be needed so filter through based on your needs\n",
    "library(data.table)\n",
    "library(tidyverse)\n",
    "library(RColorBrewer)\n",
    "library(reshape2)\n",
    "library(gdata)\n",
    "library(ggrepel)\n",
    "library(biomaRt)\n",
    "library(fgsea)\n",
    "library(tximport)\n",
    "library(DESeq2)\n",
    "library(gage)\n",
    "library(gageData)\n",
    "library(pathview)"
   ]
  },
  {
   "cell_type": "code",
   "execution_count": null,
   "metadata": {},
   "outputs": [],
   "source": [
    "# common functions I use that I want to unmask\n",
    "# masked from dplyr by S4Vectors\n",
    "rename <- dplyr::rename\n",
    "\n",
    "# masked from dplyr by AnnotationDbi\n",
    "select <- dplyr::select"
   ]
  },
  {
   "cell_type": "markdown",
   "metadata": {},
   "source": [
    "## Import kallisto abundance files using tximport"
   ]
  },
  {
   "cell_type": "code",
   "execution_count": null,
   "metadata": {},
   "outputs": [],
   "source": [
    "### read in tx2gene table\n",
    "# tx2gene must two columns: 1) transcript ID and 2) gene ID, and must be in this order\n",
    "# the transcript ID must be the same one used in the abundance files\n",
    "tx2gene <- fread(\"/cellar/users/ndefores/reference_genomes//hg38//gencode_GRCh38.p12_release31//gencode.v31.chr_patch_hapl_scaff.annotation.gtf_transcript_gene_table.csv\",\n",
    "                data.table = F)\n",
    "head(tx2gene)"
   ]
  },
  {
   "cell_type": "code",
   "execution_count": null,
   "metadata": {},
   "outputs": [],
   "source": [
    "# read in meta data table\n",
    "s2c <- read.csv(\"/path/to/file/\", stringsAsFactor=F)\n",
    "\n",
    "## Make sure DESeq knows what is the reference using and releveling factors\n",
    "# add samples as rownames for DESeq\n",
    "rownames(s2c) <- s2c$sample"
   ]
  },
  {
   "cell_type": "code",
   "execution_count": null,
   "metadata": {},
   "outputs": [],
   "source": [
    "# Read in all samples kallisto abundance files into tximport object\n",
    "files <- file.path(\"./kallisto_runs/\", s2c$sample, \"abundance.h5\")\n",
    "names(files) <- s2c$sample\n",
    "txi.kallisto <- tximport(files, type = \"kallisto\", ignoreAfterBar = TRUE, tx2gene = tx2gene)\n",
    "lapply(txi.kallisto,class)\n",
    "\n",
    "# Notes: txi.kallisto$abundance = TPM matrix"
   ]
  },
  {
   "cell_type": "code",
   "execution_count": null,
   "metadata": {},
   "outputs": [],
   "source": []
  },
  {
   "cell_type": "markdown",
   "metadata": {},
   "source": [
    "## Differential expression analysis by DESeq2"
   ]
  },
  {
   "cell_type": "code",
   "execution_count": null,
   "metadata": {},
   "outputs": [],
   "source": [
    "### run DESeq for condition\n",
    "# make deseq object from txi import object\n",
    "dds <- DESeqDataSetFromTximport(txi.kallisto, colData = s2c, design = ~condition) \n",
    "\n",
    "# run DESeq for WT vs KO\n",
    "start.time <- Sys.time()\n",
    "dds <- DESeq(dds)\n",
    "end.time <- Sys.time()\n",
    "time.taken <- end.time - start.time\n",
    "time.taken"
   ]
  },
  {
   "cell_type": "code",
   "execution_count": null,
   "metadata": {},
   "outputs": [],
   "source": [
    "# Quality control - PCA\n",
    "# regularized log transform count data to log2 scale for variance stabilizing effect, convert to matrix\n",
    "start.time <- Sys.time()\n",
    "rld <- assay(rlog(dds))\n",
    "pca <- prcomp(t(rld))\n",
    "summary(pca)\n",
    "end.time <- Sys.time()\n",
    "time.taken <- end.time - start.time\n",
    "time.taken\n",
    "\n",
    "# Plot PCA\n",
    "pca.dt <- cbind(s2c, pca$x)\n",
    "ggplot(pca.dt, aes(x=PC1, PC2, color = condition, label = replicate)) + geom_point() + geom_text_repel()"
   ]
  },
  {
   "cell_type": "code",
   "execution_count": null,
   "metadata": {},
   "outputs": [],
   "source": [
    "# make DESEq results into data frame\n",
    "res <- results(dds) %>%\n",
    "    as.data.frame() %>%\n",
    "    rownames_to_column(\"gene_id\") %>%\n",
    "    left_join(., distinct(select(tx2gene, -transcript_id)), by = \"gene_id\") %>%\n",
    "    arrange(padj)\n",
    "\n",
    "# get entrez IDs for genes\n",
    "res$entrez <- mapIds(org.Hs.eg.db,\n",
    "                     keys=as.character(res$gene), \n",
    "                     column=\"ENTREZID\",\n",
    "                     keytype=\"SYMBOL\",\n",
    "                     multiVals=\"first\")\n",
    "\n",
    "\n",
    "# add description too\n",
    "res$gene_name <- mapIds(org.Hs.eg.db,\n",
    "                     keys=as.character(res$gene), \n",
    "                     column=\"GENENAME\",\n",
    "                     keytype=\"SYMBOL\",\n",
    "                     multiVals=\"first\")\n",
    "\n",
    "head(res)"
   ]
  },
  {
   "cell_type": "code",
   "execution_count": null,
   "metadata": {},
   "outputs": [],
   "source": [
    "## Volcano plot of DE genes\n",
    "ggplot(res, aes(x = log2FoldChange, y = -log10(padj), label = gene)) + \n",
    "    geom_point() +\n",
    "    geom_text_repel(data=res[1:15,], box.padding = 0.2) +\n",
    "    geom_hline(yintercept = -log10(0.05), color = \"red\", linetype = \"dashed\") +\n",
    "    theme_classic() +\n",
    "    ylab(\"-log(P value)\") "
   ]
  },
  {
   "cell_type": "code",
   "execution_count": null,
   "metadata": {},
   "outputs": [],
   "source": []
  },
  {
   "cell_type": "markdown",
   "metadata": {},
   "source": [
    "## Gene set enrichment analysis\n",
    "Using DESeq results `res`"
   ]
  },
  {
   "cell_type": "code",
   "execution_count": null,
   "metadata": {},
   "outputs": [],
   "source": [
    "# Rank each gene by differential expression results\n",
    "# average stat value for each gene -> rank\n",
    "ranks <- res %>%\n",
    "    select(gene, stat) %>%\n",
    "    na.omit() %>%\n",
    "    distinct() %>% \n",
    "    group_by(gene) %>% \n",
    "    summarize(stat=mean(stat)) %>%\n",
    "    deframe()\n",
    "head(ranks)"
   ]
  },
  {
   "cell_type": "code",
   "execution_count": null,
   "metadata": {},
   "outputs": [],
   "source": [
    "# Example using Hallmark pathways\n",
    "\n",
    "# Get pathways - can be downloaded from https://www.gsea-msigdb.org/gsea/msigdb/genesets.jsp\n",
    "hallmark.pathways <- gmtPathways(\"~/annotations//gsea_pathways/h.all.v7.2.symbols.gmt\")\n",
    "\n",
    "# run fgsea\n",
    "hallmark_res <- fgsea(hallmark.pathways, ranks, minSize=15, maxSize = 500, nperm=10000)\n",
    "# hallmark_res_huh %>% arrange(padj)\n",
    "\n",
    "#plot\n",
    "ggplot(hallmark_res, aes(reorder(pathway, NES), NES)) +\n",
    "  geom_col(aes(fill=padj<0.05)) +\n",
    "  coord_flip() +\n",
    "  labs(x=\"Pathway\", y=\"Normalized Enrichment Score\",\n",
    "       title=\"Hallmark pathways GSEA\") + \n",
    "  theme_minimal()"
   ]
  },
  {
   "cell_type": "code",
   "execution_count": null,
   "metadata": {},
   "outputs": [],
   "source": []
  }
 ],
 "metadata": {
  "kernelspec": {
   "display_name": "R",
   "language": "R",
   "name": "ir"
  },
  "language_info": {
   "codemirror_mode": "r",
   "file_extension": ".r",
   "mimetype": "text/x-r-source",
   "name": "R",
   "pygments_lexer": "r",
   "version": "3.5.1"
  }
 },
 "nbformat": 4,
 "nbformat_minor": 4
}
